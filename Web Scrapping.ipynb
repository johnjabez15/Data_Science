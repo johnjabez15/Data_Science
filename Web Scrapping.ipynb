{
  "nbformat": 4,
  "nbformat_minor": 0,
  "metadata": {
    "colab": {
      "provenance": []
    },
    "kernelspec": {
      "name": "python3",
      "display_name": "Python 3"
    },
    "language_info": {
      "name": "python"
    }
  },
  "cells": [
    {
      "cell_type": "code",
      "source": [
        "!rm /usr/bin/chromedriver\n"
      ],
      "metadata": {
        "id": "yba3glaAn_6a"
      },
      "execution_count": null,
      "outputs": []
    },
    {
      "cell_type": "code",
      "source": [
        "!wget -q https://storage.googleapis.com/chrome-for-testing-public/135.0.7049.84/linux64/chromedriver-linux64.zip\n",
        "!unzip chromedriver-linux64.zip\n",
        "!mv chromedriver-linux64/chromedriver /usr/bin/chromedriver\n",
        "!chmod +x /usr/bin/chromedriver\n"
      ],
      "metadata": {
        "colab": {
          "base_uri": "https://localhost:8080/"
        },
        "id": "mraeFERqoJzI",
        "outputId": "207812cd-1a1f-4d5e-dde2-54e99fab7b76"
      },
      "execution_count": null,
      "outputs": [
        {
          "output_type": "stream",
          "name": "stdout",
          "text": [
            "Archive:  chromedriver-linux64.zip\n",
            "  inflating: chromedriver-linux64/LICENSE.chromedriver  \n",
            "  inflating: chromedriver-linux64/THIRD_PARTY_NOTICES.chromedriver  \n",
            "  inflating: chromedriver-linux64/chromedriver  \n"
          ]
        }
      ]
    },
    {
      "cell_type": "code",
      "source": [
        "!google-chrome --version\n",
        "!chromedriver --version\n"
      ],
      "metadata": {
        "colab": {
          "base_uri": "https://localhost:8080/"
        },
        "id": "sFrKENifoOng",
        "outputId": "e7975669-f424-4b53-e355-ced5d4d0ec1f"
      },
      "execution_count": null,
      "outputs": [
        {
          "output_type": "stream",
          "name": "stdout",
          "text": [
            "Google Chrome 135.0.7049.84 \n",
            "ChromeDriver 135.0.7049.84 (6c019e56001911b3fd467e03bf68c435924d62f4-refs/branch-heads/7049@{#1778})\n"
          ]
        }
      ]
    },
    {
      "cell_type": "code",
      "source": [
        "from selenium import webdriver\n",
        "from selenium.webdriver.chrome.service import Service\n",
        "from selenium.webdriver.common.by import By\n",
        "from selenium.webdriver.chrome.options import Options\n",
        "import time\n",
        "\n",
        "chrome_options = Options()\n",
        "chrome_options.add_argument(\"--headless\")\n",
        "chrome_options.add_argument(\"--no-sandbox\")\n",
        "chrome_options.add_argument(\"--disable-dev-shm-usage\")\n",
        "\n",
        "# Use correct driver\n",
        "service = Service('/usr/bin/chromedriver')\n",
        "driver = webdriver.Chrome(service=service, options=chrome_options)\n"
      ],
      "metadata": {
        "id": "xtAc1VBmoUL7"
      },
      "execution_count": null,
      "outputs": []
    },
    {
      "cell_type": "code",
      "source": [
        "# Search for a product (e.g., bluetooth headphones)\n",
        "search_query = \"bluetooth headphones\"\n",
        "url = f\"https://www.amazon.in/s?k={search_query.replace(' ', '+')}\"\n",
        "\n",
        "driver.get(url)\n",
        "time.sleep(3)  # Let page load\n",
        "\n",
        "# Scrape titles and prices\n",
        "products = driver.find_elements(By.XPATH, '//div[@data-component-type=\"s-search-result\"]')\n",
        "\n",
        "for product in products[:10]:\n",
        "    try:\n",
        "        title = product.find_element(By.TAG_NAME, 'h2').text\n",
        "        price = product.find_element(By.CLASS_NAME, 'a-price-whole').text\n",
        "        print(f\"{title} - ₹{price}\")\n",
        "    except:\n",
        "        continue\n"
      ],
      "metadata": {
        "colab": {
          "base_uri": "https://localhost:8080/"
        },
        "id": "TsEgGTSxoef6",
        "outputId": "2eb2c711-e2dd-454e-af47-08f47478dda6"
      },
      "execution_count": null,
      "outputs": [
        {
          "output_type": "stream",
          "name": "stdout",
          "text": [
            "JBL Tune 510BT, On Ear Wireless Headphones with Mic, up to 40 Hours Playtime, Pure Bass, Quick Charging, Dual Pairing, Bluetooth 5.0 & Voice Assistant Support for Mobile Phones (Black) - ₹2,799\n",
            "OnePlus Bullets Z2 Bluetooth Wireless in Ear Earphones with Mic, Bombastic Bass - 12.4 Mm Drivers, 10 Mins Charge - 20 Hrs Music, 30 Hrs Battery Life (Jazz Green) - ₹1,299\n",
            "boAt New Launch Rockerz 650 Pro, Touch/Swipe Controls, Dolby Audio, 80Hrs Battery, 2Mics ENx, Fast Charge, App Support, Dual Pair, Bluetooth Headphones, Wireless Headphone with Mic (Starry Night) - ₹2,799\n",
            "boAt Rockerz 480 w/RGB LEDs, 6 Light Modes, 40mm Drivers, Beast Mode, 60hrs Playback, ENx Tech, BT v5.3, Adaptive Fit & Easy Access Controls, Bluetooth Headphones(Black Sabre) - ₹1,599\n",
            "Sony WH-CH520 Wireless Bluetooth Headphones with Mic, Up to 50Hrs Battery-Blue - ₹3,989\n",
            "Sony WH-CH520 Wireless Bluetooth Headphones with Mic, Up to 50Hrs Battery-Black - ₹3,989\n",
            "boAt Rockerz 110/Rockerz 109 Wireless Neckband with Up to 60 hrs Playtime, Dual Device Pairing, ENx Tech, Beast Mode, ASAP Charging, BTv5.3,IPX5,Type-C Interface & Magnetic Power Buds(Fern Green) - ₹799\n",
            "Oneplus Bullets Z2 Bluetooth Wireless in Ear Earphones with Mic, Bombastic Bass - 12.4 mm Drivers, 10 Mins Charge - 20 Hrs Music, 30 Hrs Battery Life, IP55 Dust and Water Resistant (Magico Black) - ₹1,299\n",
            "ZEBRONICS Thunder Bluetooth 5.3 Wireless Over Ear Headphones with 60H Backup, Gaming Mode, Dual Pairing, Enc, Aux, Micro Sd, Voice Assistant, Comfortable Earcups, Call Function (Sea Green) - ₹699\n",
            "boAt Rockerz 255 Pro+, 60HRS Battery, Fast Charge, IPX7, Dual Pairing, Low Latency, Magnetic Earbuds, in Ear Bluetooth Neckband, Wireless with Mic Earphones (Active Black) - ₹1,089\n"
          ]
        }
      ]
    }
  ]
}